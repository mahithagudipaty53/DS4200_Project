{
 "cells": [
  {
   "cell_type": "code",
   "execution_count": 2,
   "id": "bf3b35c0",
   "metadata": {},
   "outputs": [
    {
     "name": "stdout",
     "output_type": "stream",
     "text": [
      "Saved chart to: /Users/hariniavula/DS4200_Project/seasonal_category_popularity.html\n"
     ]
    }
   ],
   "source": [
    "import pandas as pd\n",
    "import matplotlib.pyplot as plt\n",
    "import altair as alt\n",
    "import webbrowser\n",
    "import os\n",
    "\n",
    "df = pd.read_csv('shopping_behavior_updated.csv')\n",
    "\n",
    "# Build stacked bar chart\n",
    "chart = alt.Chart(df).mark_bar().encode(\n",
    "    x=alt.X('Season:N', title='Season', sort=['Winter', 'Spring', 'Summer', 'Fall']),\n",
    "    y=alt.Y('count():Q', title='Number of Purchases'),\n",
    "    color=alt.Color('Category:N', title='Product Category'),\n",
    "    tooltip=['Season', 'Category', 'count()']\n",
    ").properties(\n",
    "    title='Popularity of Product Categories Across Seasons',\n",
    "    width=700,\n",
    "    height=400\n",
    ")\n",
    "\n",
    "# Save chart as HTML in current directory\n",
    "output_file = 'seasonal_category_popularity.html'\n",
    "chart.save(output_file)\n",
    "print(f\"Saved chart to: {os.path.abspath(output_file)}\")\n",
    "\n",
    "# Open the chart in your default web browser\n",
    "webbrowser.open('file://' + os.path.abspath(output_file))\n",
    "\n",
    "\n",
    "df = pd.read_csv(\"shopping_behavior_updated.csv\")\n",
    "df['Incentive_Type'] = df.apply(\n",
    "    lambda r: 'Used Both' if r['Discount Applied'] == 'Yes' and r['Promo Code Used'] == 'Yes'\n",
    "    else 'Used Discount Only' if r['Discount Applied'] == 'Yes'\n",
    "    else 'Used Promo Only' if r['Promo Code Used'] == 'Yes'\n",
    "    else 'Used Neither', axis=1\n",
    ")\n",
    "categories = ['Used Both', 'Used Discount Only', 'Used Promo Only', 'Used Neither']\n",
    "\n",
    "data = [df.loc[df['Incentive_Type'] == cat, 'Purchase Amount (USD)'] for cat in df['Incentive_Type'].unique()]\n"
   ]
  }
 ],
 "metadata": {
  "kernelspec": {
   "display_name": "myenv",
   "language": "python",
   "name": "python3"
  },
  "language_info": {
   "codemirror_mode": {
    "name": "ipython",
    "version": 3
   },
   "file_extension": ".py",
   "mimetype": "text/x-python",
   "name": "python",
   "nbconvert_exporter": "python",
   "pygments_lexer": "ipython3",
   "version": "3.12.2"
  }
 },
 "nbformat": 4,
 "nbformat_minor": 5
}
